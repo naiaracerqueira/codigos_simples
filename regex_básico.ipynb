{
  "nbformat": 4,
  "nbformat_minor": 0,
  "metadata": {
    "colab": {
      "name": "regex_básico.ipynb",
      "provenance": [],
      "authorship_tag": "ABX9TyMJnvPepedFJeE3U0dy9K8L"
    },
    "kernelspec": {
      "name": "python3",
      "display_name": "Python 3"
    }
  },
  "cells": [
    {
      "cell_type": "code",
      "metadata": {
        "id": "Llbk1pLk4UDm"
      },
      "source": [
        "# Pacote de regex no Python:\n",
        "import re"
      ],
      "execution_count": 1,
      "outputs": []
    },
    {
      "cell_type": "markdown",
      "metadata": {
        "id": "b0DXnZcvH158"
      },
      "source": [
        "| Método | Descrição  |\n",
        "|:----------:|:------------------:|\n",
        "| re.match()    | Determina se a expressão regular combina com o início da string. Retorna a posição da string buscada. |\n",
        "| re.search()   | Varre toda a string, procurando o primeiro local onde esta expressão regular tem correspondência. Retorna a posição da string buscada. |\n",
        "| re.findall()  | Encontra todas as substrings onde a expressão regular corresponde, e as retorna como uma lista. Retrona uma lista com as strings encontradas. |\n",
        "| re.finditer() | Encontra todas as substrings onde a expressão regular corresponde, e as retorna como um iterador. |\n",
        "| re.sub() | Encontra o padrão e faz substituições |"
      ]
    },
    {
      "cell_type": "markdown",
      "metadata": {
        "id": "bSL5cVZaJ2pj"
      },
      "source": [
        "## Básico\n",
        "### Match"
      ]
    },
    {
      "cell_type": "code",
      "metadata": {
        "id": "CdyGJzVfJ9Pk"
      },
      "source": [
        "string = \"frase que será analisada pelo regex porque regex é legal e útil\""
      ],
      "execution_count": 2,
      "outputs": []
    },
    {
      "cell_type": "code",
      "metadata": {
        "colab": {
          "base_uri": "https://localhost:8080/"
        },
        "id": "kYptKQRoJVZw",
        "outputId": "bc54471a-6693-418b-c35c-452e1e203236"
      },
      "source": [
        "re.match('frase', string)"
      ],
      "execution_count": 3,
      "outputs": [
        {
          "output_type": "execute_result",
          "data": {
            "text/plain": [
              "<_sre.SRE_Match object; span=(0, 5), match='frase'>"
            ]
          },
          "metadata": {
            "tags": []
          },
          "execution_count": 3
        }
      ]
    },
    {
      "cell_type": "code",
      "metadata": {
        "id": "Cxzs3AMMHtxN"
      },
      "source": [
        "re.match('regex', string)"
      ],
      "execution_count": 4,
      "outputs": []
    },
    {
      "cell_type": "markdown",
      "metadata": {
        "id": "MJNZBPpPJ4gT"
      },
      "source": [
        "### Search"
      ]
    },
    {
      "cell_type": "code",
      "metadata": {
        "colab": {
          "base_uri": "https://localhost:8080/"
        },
        "id": "YIGJaRoPKEw3",
        "outputId": "7f26bb8f-e101-4f7a-fe15-da7adcf914e3"
      },
      "source": [
        "re.search('frase', string)"
      ],
      "execution_count": 5,
      "outputs": [
        {
          "output_type": "execute_result",
          "data": {
            "text/plain": [
              "<_sre.SRE_Match object; span=(0, 5), match='frase'>"
            ]
          },
          "metadata": {
            "tags": []
          },
          "execution_count": 5
        }
      ]
    },
    {
      "cell_type": "code",
      "metadata": {
        "colab": {
          "base_uri": "https://localhost:8080/"
        },
        "id": "EAoexfdOKEw6",
        "outputId": "a7ed2558-75bc-4e59-b7de-b9c0cdcb5ed1"
      },
      "source": [
        "re.search('regex', string)"
      ],
      "execution_count": 6,
      "outputs": [
        {
          "output_type": "execute_result",
          "data": {
            "text/plain": [
              "<_sre.SRE_Match object; span=(30, 35), match='regex'>"
            ]
          },
          "metadata": {
            "tags": []
          },
          "execution_count": 6
        }
      ]
    },
    {
      "cell_type": "markdown",
      "metadata": {
        "id": "5HoU2yDWKNp4"
      },
      "source": [
        "### Findall"
      ]
    },
    {
      "cell_type": "code",
      "metadata": {
        "colab": {
          "base_uri": "https://localhost:8080/"
        },
        "id": "WWF6-oKrKK4a",
        "outputId": "10c6e378-a85d-4cb5-ad00-88821396a3e6"
      },
      "source": [
        "re.findall('regex', string)"
      ],
      "execution_count": 7,
      "outputs": [
        {
          "output_type": "execute_result",
          "data": {
            "text/plain": [
              "['regex', 'regex']"
            ]
          },
          "metadata": {
            "tags": []
          },
          "execution_count": 7
        }
      ]
    },
    {
      "cell_type": "code",
      "metadata": {
        "colab": {
          "base_uri": "https://localhost:8080/"
        },
        "id": "5wX2W37IKtx-",
        "outputId": "eff3c26b-bf2e-4ff0-b684-20951ce58bb0"
      },
      "source": [
        "re.findall('que', string)"
      ],
      "execution_count": 8,
      "outputs": [
        {
          "output_type": "execute_result",
          "data": {
            "text/plain": [
              "['que', 'que']"
            ]
          },
          "metadata": {
            "tags": []
          },
          "execution_count": 8
        }
      ]
    },
    {
      "cell_type": "code",
      "metadata": {
        "colab": {
          "base_uri": "https://localhost:8080/"
        },
        "id": "YWlkiOipLHAu",
        "outputId": "dbb4d86c-fbaa-4359-91ea-a36df2b38110"
      },
      "source": [
        "re.findall('frase', string)"
      ],
      "execution_count": 9,
      "outputs": [
        {
          "output_type": "execute_result",
          "data": {
            "text/plain": [
              "['frase']"
            ]
          },
          "metadata": {
            "tags": []
          },
          "execution_count": 9
        }
      ]
    },
    {
      "cell_type": "markdown",
      "metadata": {
        "id": "yudBnX91LJHF"
      },
      "source": [
        "### Finditer"
      ]
    },
    {
      "cell_type": "code",
      "metadata": {
        "colab": {
          "base_uri": "https://localhost:8080/"
        },
        "id": "2T1avbmdLMbl",
        "outputId": "ea49ed95-5596-41af-c21a-63baca1f2d9e"
      },
      "source": [
        "re.finditer('regex', string)"
      ],
      "execution_count": 10,
      "outputs": [
        {
          "output_type": "execute_result",
          "data": {
            "text/plain": [
              "<callable_iterator at 0x7f3923804470>"
            ]
          },
          "metadata": {
            "tags": []
          },
          "execution_count": 10
        }
      ]
    },
    {
      "cell_type": "code",
      "metadata": {
        "colab": {
          "base_uri": "https://localhost:8080/"
        },
        "id": "Y2QgWQK-LRUw",
        "outputId": "1039225b-de1c-48e4-d353-1caacb5e11cb"
      },
      "source": [
        "for i in re.finditer('regex', string):\n",
        "    print(i)"
      ],
      "execution_count": 11,
      "outputs": [
        {
          "output_type": "stream",
          "text": [
            "<_sre.SRE_Match object; span=(30, 35), match='regex'>\n",
            "<_sre.SRE_Match object; span=(43, 48), match='regex'>\n"
          ],
          "name": "stdout"
        }
      ]
    },
    {
      "cell_type": "code",
      "metadata": {
        "colab": {
          "base_uri": "https://localhost:8080/"
        },
        "id": "ivlSxPIrLMbt",
        "outputId": "e9f06fea-f85d-49ac-da42-6b7c2f26eb3d"
      },
      "source": [
        "re.finditer('analisada', string)"
      ],
      "execution_count": 12,
      "outputs": [
        {
          "output_type": "execute_result",
          "data": {
            "text/plain": [
              "<callable_iterator at 0x7f39238049e8>"
            ]
          },
          "metadata": {
            "tags": []
          },
          "execution_count": 12
        }
      ]
    },
    {
      "cell_type": "code",
      "metadata": {
        "colab": {
          "base_uri": "https://localhost:8080/"
        },
        "id": "PP5VOxganwPv",
        "outputId": "7a7a3a60-2948-4186-fc6a-5be1b2cc6fbb"
      },
      "source": [
        "for i in re.finditer('analisada', string):\n",
        "    print(i)"
      ],
      "execution_count": 13,
      "outputs": [
        {
          "output_type": "stream",
          "text": [
            "<_sre.SRE_Match object; span=(15, 24), match='analisada'>\n"
          ],
          "name": "stdout"
        }
      ]
    },
    {
      "cell_type": "markdown",
      "metadata": {
        "id": "BaTnLOSjn2Fb"
      },
      "source": [
        "### Sub"
      ]
    },
    {
      "cell_type": "code",
      "metadata": {
        "colab": {
          "base_uri": "https://localhost:8080/",
          "height": 35
        },
        "id": "NlxQUK5fn3S1",
        "outputId": "375e43c4-2e7f-4c7d-8ac1-f6eb715b456c"
      },
      "source": [
        "re.sub('analisada', 'avaliada', string)"
      ],
      "execution_count": 14,
      "outputs": [
        {
          "output_type": "execute_result",
          "data": {
            "application/vnd.google.colaboratory.intrinsic+json": {
              "type": "string"
            },
            "text/plain": [
              "'frase que será avaliada pelo regex porque regex é legal e útil'"
            ]
          },
          "metadata": {
            "tags": []
          },
          "execution_count": 14
        }
      ]
    },
    {
      "cell_type": "code",
      "metadata": {
        "colab": {
          "base_uri": "https://localhost:8080/",
          "height": 35
        },
        "id": "aYHRyNWXDUkK",
        "outputId": "ac57d507-445e-4d4b-b696-1bb64c7b541f"
      },
      "source": [
        "string = 'naiara gosta de banana mas naiara não gosta de quiabo'\n",
        "\n",
        "re.sub('naiara','pedro',string)"
      ],
      "execution_count": 31,
      "outputs": [
        {
          "output_type": "execute_result",
          "data": {
            "application/vnd.google.colaboratory.intrinsic+json": {
              "type": "string"
            },
            "text/plain": [
              "'pedro gosta de banana mas pedro não gosta de quiabo'"
            ]
          },
          "metadata": {
            "tags": []
          },
          "execution_count": 31
        }
      ]
    },
    {
      "cell_type": "markdown",
      "metadata": {
        "id": "MxWbScsuLXmG"
      },
      "source": [
        "## Interessantes"
      ]
    },
    {
      "cell_type": "markdown",
      "metadata": {
        "id": "l_AguSaKruDi"
      },
      "source": [
        "| Padrão | Significado |\n",
        "|:------:|:-------:|\n",
        "| ^ | Nega a expressão OU marca o início de uma string |\n",
        "| $ | Marca o final de uma string |\n",
        "| + | Prolonga o caractere anterior |\n",
        "| * | Prolonga o caractere anterior, mas ele também pode não existir |\n",
        "| ? | Diz que há dúvida se o caractere anterior a ele existe |\n",
        "| . | Substitui qualquer caractere (apenas um) |\n",
        "| [A-Z] | Procura qualquer caractere maiúsculo de **A** a **Z** |\n",
        "| [a-z] | Procura qualquer caractere minúsculo de **a** a **z** |\n",
        "| [0-9] | Procura qualquer dígito de **1** a **9** |\n",
        "| [125] | Procura os dígitos **1**, **2** ou **5** |\n",
        "| [^0-9] | O **^** nega a expressão a seguir, logo, procura tudo que não for número.\n",
        "| [abc] | Procura os caracteres **a**, **b** ou **c** |\n",
        "| [^A-Z] | Procura tudo que não for letra maiúscula |\n",
        "| [a-zA-Z] | Procura tudo que for letra |\n",
        "| \\s | Procura espaços |\n",
        "| \\w | Procura caracteres, exceto os especiais |\n",
        "| \\d | Também procura qualquer dígito de **1** a **9** |"
      ]
    },
    {
      "cell_type": "code",
      "metadata": {
        "id": "GNMMsK_HsusL"
      },
      "source": [
        "lista = [ 'www.google.com', 'https://www.google.com', 'google.com.br' ]"
      ],
      "execution_count": 15,
      "outputs": []
    },
    {
      "cell_type": "code",
      "metadata": {
        "colab": {
          "base_uri": "https://localhost:8080/"
        },
        "id": "jVTt6AA5sOdA",
        "outputId": "5a8341a7-bef1-4c10-af0c-2435f3605e94"
      },
      "source": [
        "for string in lista:\n",
        "    print(re.search(\"^www\", string))"
      ],
      "execution_count": 16,
      "outputs": [
        {
          "output_type": "stream",
          "text": [
            "<_sre.SRE_Match object; span=(0, 3), match='www'>\n",
            "None\n",
            "None\n"
          ],
          "name": "stdout"
        }
      ]
    },
    {
      "cell_type": "code",
      "metadata": {
        "colab": {
          "base_uri": "https://localhost:8080/"
        },
        "id": "tO1k7Dtvsvid",
        "outputId": "4409c14e-a41c-4744-83f5-4697c6e7ac6e"
      },
      "source": [
        "for string in lista:\n",
        "    print(re.search(\"com$\", string))"
      ],
      "execution_count": 17,
      "outputs": [
        {
          "output_type": "stream",
          "text": [
            "<_sre.SRE_Match object; span=(11, 14), match='com'>\n",
            "<_sre.SRE_Match object; span=(19, 22), match='com'>\n",
            "None\n"
          ],
          "name": "stdout"
        }
      ]
    },
    {
      "cell_type": "code",
      "metadata": {
        "colab": {
          "base_uri": "https://localhost:8080/"
        },
        "id": "74MBVhYBsyjH",
        "outputId": "87572e3d-a5c5-432e-90b3-65b1e41faea9"
      },
      "source": [
        "lista = [ 'naiara', 'naiaraaaaaa', 'naaaaaaiara', 'naiar', 'naiars' ]\n",
        "\n",
        "for string in lista:\n",
        "    print(re.search(\"naiar.\", string))"
      ],
      "execution_count": 18,
      "outputs": [
        {
          "output_type": "stream",
          "text": [
            "<_sre.SRE_Match object; span=(0, 6), match='naiara'>\n",
            "<_sre.SRE_Match object; span=(0, 6), match='naiara'>\n",
            "None\n",
            "None\n",
            "<_sre.SRE_Match object; span=(0, 6), match='naiars'>\n"
          ],
          "name": "stdout"
        }
      ]
    },
    {
      "cell_type": "code",
      "metadata": {
        "colab": {
          "base_uri": "https://localhost:8080/"
        },
        "id": "qijibwXtu56A",
        "outputId": "d3b54b54-adb2-4721-ea92-b243b60beec6"
      },
      "source": [
        "for string in lista:\n",
        "    print(re.search(\"naiara?\", string))"
      ],
      "execution_count": 19,
      "outputs": [
        {
          "output_type": "stream",
          "text": [
            "<_sre.SRE_Match object; span=(0, 6), match='naiara'>\n",
            "<_sre.SRE_Match object; span=(0, 6), match='naiara'>\n",
            "None\n",
            "<_sre.SRE_Match object; span=(0, 5), match='naiar'>\n",
            "<_sre.SRE_Match object; span=(0, 5), match='naiar'>\n"
          ],
          "name": "stdout"
        }
      ]
    },
    {
      "cell_type": "code",
      "metadata": {
        "colab": {
          "base_uri": "https://localhost:8080/"
        },
        "id": "OxJb-ku3vAH3",
        "outputId": "33bf791f-b9d3-450e-e2ef-eb31589a8426"
      },
      "source": [
        "for string in lista:\n",
        "    print(re.search(\"naiara+\", string))"
      ],
      "execution_count": 20,
      "outputs": [
        {
          "output_type": "stream",
          "text": [
            "<_sre.SRE_Match object; span=(0, 6), match='naiara'>\n",
            "<_sre.SRE_Match object; span=(0, 11), match='naiaraaaaaa'>\n",
            "None\n",
            "None\n",
            "None\n"
          ],
          "name": "stdout"
        }
      ]
    },
    {
      "cell_type": "code",
      "metadata": {
        "colab": {
          "base_uri": "https://localhost:8080/",
          "height": 35
        },
        "id": "t8jgOXkMxEW1",
        "outputId": "24c5e047-ba59-437d-911d-baa00497cb07"
      },
      "source": [
        "string = 'essa é uma frase com espaços demais no final.                    '\n",
        "\n",
        "re.sub(\"\\s+$\", \"\", string)"
      ],
      "execution_count": 21,
      "outputs": [
        {
          "output_type": "execute_result",
          "data": {
            "application/vnd.google.colaboratory.intrinsic+json": {
              "type": "string"
            },
            "text/plain": [
              "'essa é uma frase com espaços demais no final.'"
            ]
          },
          "metadata": {
            "tags": []
          },
          "execution_count": 21
        }
      ]
    },
    {
      "cell_type": "code",
      "metadata": {
        "id": "jCCkqzEvy2xA"
      },
      "source": [
        "string = \"A história do PLN começou na década de 1950, quando Alan Turing publicou o artigo Computing Machinery and Intelligence, que propunha o que agora é chamado de teste de Turing como critério de inteligência. Em 1954, a experiência de Georgetown envolveu a tradução automática de mais de sessenta frases russas para o inglês. Os autores afirmaram que dentro de três ou cinco anos a tradução automática seria um problema resolvido.[2] No entanto, os avanços reais foram muito mais lentos do que o previsto e, após o relatório ALPAC em 1966, que constatou que a pesquisa de dez anos não conseguiu satisfazer as expectativas, o financiamento para este estudo em tradução automática foi reduzido drasticamente. Poucas pesquisas em tradução automática foram conduzidas até o final dos anos 80, quando os primeiros sistemas estatísticos de tradução foram desenvolvidos.\""
      ],
      "execution_count": 22,
      "outputs": []
    },
    {
      "cell_type": "code",
      "metadata": {
        "colab": {
          "base_uri": "https://localhost:8080/"
        },
        "id": "gK8RIk-M0bpP",
        "outputId": "a6abc135-234c-421a-eb00-19f82f57d1c6"
      },
      "source": [
        "re.findall('[A-Z]',string)"
      ],
      "execution_count": 23,
      "outputs": [
        {
          "output_type": "execute_result",
          "data": {
            "text/plain": [
              "['A',\n",
              " 'P',\n",
              " 'L',\n",
              " 'N',\n",
              " 'A',\n",
              " 'T',\n",
              " 'C',\n",
              " 'M',\n",
              " 'I',\n",
              " 'T',\n",
              " 'E',\n",
              " 'G',\n",
              " 'O',\n",
              " 'N',\n",
              " 'A',\n",
              " 'L',\n",
              " 'P',\n",
              " 'A',\n",
              " 'C',\n",
              " 'P']"
            ]
          },
          "metadata": {
            "tags": []
          },
          "execution_count": 23
        }
      ]
    },
    {
      "cell_type": "code",
      "metadata": {
        "colab": {
          "base_uri": "https://localhost:8080/"
        },
        "id": "7ExPVrnt0cUr",
        "outputId": "5e8019bd-0656-47d0-ffe7-f8ef8f0632d2"
      },
      "source": [
        "re.findall('[0-9]',string)"
      ],
      "execution_count": 24,
      "outputs": [
        {
          "output_type": "execute_result",
          "data": {
            "text/plain": [
              "['1', '9', '5', '0', '1', '9', '5', '4', '2', '1', '9', '6', '6', '8', '0']"
            ]
          },
          "metadata": {
            "tags": []
          },
          "execution_count": 24
        }
      ]
    },
    {
      "cell_type": "code",
      "metadata": {
        "colab": {
          "base_uri": "https://localhost:8080/"
        },
        "id": "XaE6hqo81vjm",
        "outputId": "28295bcd-6b2f-4072-c8be-2579652a6263"
      },
      "source": [
        "re.findall('[0-9]+',string)"
      ],
      "execution_count": 25,
      "outputs": [
        {
          "output_type": "execute_result",
          "data": {
            "text/plain": [
              "['1950', '1954', '2', '1966', '80']"
            ]
          },
          "metadata": {
            "tags": []
          },
          "execution_count": 25
        }
      ]
    },
    {
      "cell_type": "code",
      "metadata": {
        "colab": {
          "base_uri": "https://localhost:8080/"
        },
        "id": "1LE62HNO2aox",
        "outputId": "b6ce9ba3-0e19-48d3-accb-7a5b8461da4b"
      },
      "source": [
        "string = 'ABCDEFabcdef_123450&%@#!'\n",
        "\n",
        "re.findall('\\w',string)"
      ],
      "execution_count": 26,
      "outputs": [
        {
          "output_type": "execute_result",
          "data": {
            "text/plain": [
              "['A',\n",
              " 'B',\n",
              " 'C',\n",
              " 'D',\n",
              " 'E',\n",
              " 'F',\n",
              " 'a',\n",
              " 'b',\n",
              " 'c',\n",
              " 'd',\n",
              " 'e',\n",
              " 'f',\n",
              " '_',\n",
              " '1',\n",
              " '2',\n",
              " '3',\n",
              " '4',\n",
              " '5',\n",
              " '0']"
            ]
          },
          "metadata": {
            "tags": []
          },
          "execution_count": 26
        }
      ]
    },
    {
      "cell_type": "code",
      "metadata": {
        "colab": {
          "base_uri": "https://localhost:8080/"
        },
        "id": "i2p6fEjt3JbU",
        "outputId": "46594ebe-d43a-4e3d-d778-7e9dad37b8db"
      },
      "source": [
        "string = '[codigo] titulo'\n",
        "\n",
        "re.findall(\"\\[.*\\]\", string)"
      ],
      "execution_count": 27,
      "outputs": [
        {
          "output_type": "execute_result",
          "data": {
            "text/plain": [
              "['[codigo]']"
            ]
          },
          "metadata": {
            "tags": []
          },
          "execution_count": 27
        }
      ]
    },
    {
      "cell_type": "code",
      "metadata": {
        "colab": {
          "base_uri": "https://localhost:8080/"
        },
        "id": "4CVCZ0eP39r3",
        "outputId": "f444ef4f-ab46-4e32-ce58-adc83b3b8517"
      },
      "source": [
        "string = '[codigo] titulo'\n",
        "\n",
        "re.findall(\"\\[(.*)\\]\", string)"
      ],
      "execution_count": 28,
      "outputs": [
        {
          "output_type": "execute_result",
          "data": {
            "text/plain": [
              "['codigo']"
            ]
          },
          "metadata": {
            "tags": []
          },
          "execution_count": 28
        }
      ]
    },
    {
      "cell_type": "markdown",
      "metadata": {
        "id": "fkFfQ01H0rgc"
      },
      "source": [
        "## Bônus"
      ]
    },
    {
      "cell_type": "code",
      "metadata": {
        "id": "Ub12cT3g4WKz"
      },
      "source": [
        "data = \"28/11/2020\""
      ],
      "execution_count": 29,
      "outputs": []
    },
    {
      "cell_type": "code",
      "metadata": {
        "id": "I9_qYN1s4RIr",
        "colab": {
          "base_uri": "https://localhost:8080/",
          "height": 35
        },
        "outputId": "83609b38-0db9-4f77-fd8b-90b0200cd8cf"
      },
      "source": [
        "re.sub(r\"(..)/(..)/(....)\",r\"\\3-\\2-\\1\", data)"
      ],
      "execution_count": 30,
      "outputs": [
        {
          "output_type": "execute_result",
          "data": {
            "application/vnd.google.colaboratory.intrinsic+json": {
              "type": "string"
            },
            "text/plain": [
              "'2020-11-28'"
            ]
          },
          "metadata": {
            "tags": []
          },
          "execution_count": 30
        }
      ]
    },
    {
      "cell_type": "code",
      "metadata": {
        "id": "PwTS0Dxm4UuR"
      },
      "source": [
        ""
      ],
      "execution_count": null,
      "outputs": []
    }
  ]
}
